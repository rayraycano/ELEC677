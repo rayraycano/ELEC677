{
 "cells": [
  {
   "cell_type": "code",
   "execution_count": 9,
   "metadata": {
    "collapsed": false
   },
   "outputs": [],
   "source": [
    "import numpy as np"
   ]
  },
  {
   "cell_type": "code",
   "execution_count": 21,
   "metadata": {
    "collapsed": false
   },
   "outputs": [
    {
     "name": "stdout",
     "output_type": "stream",
     "text": [
      "[[ 0  1  2  3  4]\n",
      " [ 5  6  7  8  9]\n",
      " [10 11 12 13 14]]\n",
      "2\n",
      "15\n",
      "(3, 5)\n",
      "3\n",
      "[[ 1.  2.  3.]\n",
      " [ 4.  5.  6.]]\n",
      "[[1 2 2 3]\n",
      " [3 4 4 5]]\n",
      "[10 11 12 13 14]\n",
      "13\n",
      "[3 4 4 5]\n",
      "[[0 1 2 3 4]]\n",
      "[[ 5  6  7  8  9]\n",
      " [10 11 12 13 14]]\n",
      "[[2 3]]\n",
      "[[ 5  7]\n",
      " [10 12]]\n",
      "[[ 1  3]\n",
      " [ 6  8]\n",
      " [11 13]]\n",
      "[[ 0  1  2  3  4]\n",
      " [10 11 12 13 14]]\n",
      "[[10 11 12 13 14]\n",
      " [ 5  6  7  8  9]\n",
      " [ 0  1  2  3  4]]\n",
      "[[ 4  3  2  1  0]\n",
      " [ 9  8  7  6  5]\n",
      " [14 13 12 11 10]]\n"
     ]
    }
   ],
   "source": [
    "a = np.zeros((1, 15))\n",
    "a = np.arange(15).reshape(3,5)\n",
    "\n",
    "\n",
    "print a\n",
    "print a.ndim\n",
    "print a.size\n",
    "print a.shape\n",
    "print a.shape[0]\n",
    "print np.array([[1., 2., 3.], [4.,5.,6.,]])\n",
    "v = np.array([1,2])\n",
    "q = np.array([2,3])\n",
    "n = np.array([3,4])\n",
    "m = np.array([4,5])\n",
    "stacked = np.vstack([np.hstack([v, q]), np.hstack([n, m])])\n",
    "print stacked\n",
    "print a[-1]\n",
    "print a[2, 3]\n",
    "print stacked[1,:]\n",
    "print a[:1]\n",
    "print a[-2:]\n",
    "print a[0:1][:, 2:4]\n",
    "print a[np.ix_([1,2],[0,2])]\n",
    "print a[:, 1:4:2]\n",
    "print a[::2, :]\n",
    "print a[::-1, :]\n",
    "print a[:, ::-1]\n",
    "print a[np.r_[:len(a), 0]]\n",
    "a.T\n",
    "a.conj().T\n",
    "\n"
   ]
  },
  {
   "cell_type": "code",
   "execution_count": null,
   "metadata": {
    "collapsed": true
   },
   "outputs": [],
   "source": []
  }
 ],
 "metadata": {
  "kernelspec": {
   "display_name": "Python [Root]",
   "language": "python",
   "name": "Python [Root]"
  },
  "language_info": {
   "codemirror_mode": {
    "name": "ipython",
    "version": 2
   },
   "file_extension": ".py",
   "mimetype": "text/x-python",
   "name": "python",
   "nbconvert_exporter": "python",
   "pygments_lexer": "ipython2",
   "version": "2.7.12"
  }
 },
 "nbformat": 4,
 "nbformat_minor": 0
}
